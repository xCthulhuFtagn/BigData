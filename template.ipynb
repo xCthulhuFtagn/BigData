{
 "cells": [
  {
   "cell_type": "markdown",
   "metadata": {},
   "source": [
    "# install stuff"
   ]
  },
  {
   "cell_type": "code",
   "execution_count": 1,
   "metadata": {},
   "outputs": [
    {
     "name": "stdout",
     "output_type": "stream",
     "text": [
      "Requirement already satisfied: pyspark in /home/owner/anaconda3/envs/ML/lib/python3.12/site-packages (3.5.1)\n",
      "Requirement already satisfied: pandas in /home/owner/anaconda3/envs/ML/lib/python3.12/site-packages (2.2.2)\n",
      "Requirement already satisfied: scikit-learn in /home/owner/anaconda3/envs/ML/lib/python3.12/site-packages (1.4.0)\n",
      "Requirement already satisfied: emoji in /home/owner/anaconda3/envs/ML/lib/python3.12/site-packages (1.7.0)\n",
      "Requirement already satisfied: py4j==0.10.9.7 in /home/owner/anaconda3/envs/ML/lib/python3.12/site-packages (from pyspark) (0.10.9.7)\n",
      "Requirement already satisfied: numpy>=1.26.0 in /home/owner/anaconda3/envs/ML/lib/python3.12/site-packages (from pandas) (1.26.4)\n",
      "Requirement already satisfied: python-dateutil>=2.8.2 in /home/owner/anaconda3/envs/ML/lib/python3.12/site-packages (from pandas) (2.9.0)\n",
      "Requirement already satisfied: pytz>=2020.1 in /home/owner/anaconda3/envs/ML/lib/python3.12/site-packages (from pandas) (2024.1)\n",
      "Requirement already satisfied: tzdata>=2022.7 in /home/owner/anaconda3/envs/ML/lib/python3.12/site-packages (from pandas) (2024.1)\n",
      "Requirement already satisfied: scipy>=1.6.0 in /home/owner/anaconda3/envs/ML/lib/python3.12/site-packages (from scikit-learn) (1.13.1)\n",
      "Requirement already satisfied: joblib>=1.2.0 in /home/owner/anaconda3/envs/ML/lib/python3.12/site-packages (from scikit-learn) (1.3.2)\n",
      "Requirement already satisfied: threadpoolctl>=2.0.0 in /home/owner/anaconda3/envs/ML/lib/python3.12/site-packages (from scikit-learn) (3.5.0)\n",
      "Requirement already satisfied: six>=1.5 in /home/owner/anaconda3/envs/ML/lib/python3.12/site-packages (from python-dateutil>=2.8.2->pandas) (1.16.0)\n"
     ]
    }
   ],
   "source": [
    "! pip3 install pyspark pandas scikit-learn emoji #check-swear"
   ]
  },
  {
   "cell_type": "markdown",
   "metadata": {},
   "source": [
    "# setup pyspark"
   ]
  },
  {
   "cell_type": "code",
   "execution_count": 2,
   "metadata": {},
   "outputs": [],
   "source": [
    "import pyspark.sql\n",
    "from pyspark.sql import functions as sf\n",
    "import pyspark\n",
    "import emoji\n",
    "# from check_swear import SwearingCheck\n",
    "import re\n",
    "import pandas as pd\n",
    "\n"
   ]
  },
  {
   "cell_type": "code",
   "execution_count": 3,
   "metadata": {},
   "outputs": [
    {
     "name": "stderr",
     "output_type": "stream",
     "text": [
      "24/06/09 02:39:46 WARN Utils: Your hostname, owner-All-Series resolves to a loopback address: 127.0.1.1; using 192.168.5.109 instead (on interface eno1)\n",
      "24/06/09 02:39:46 WARN Utils: Set SPARK_LOCAL_IP if you need to bind to another address\n",
      "Setting default log level to \"WARN\".\n",
      "To adjust logging level use sc.setLogLevel(newLevel). For SparkR, use setLogLevel(newLevel).\n",
      "24/06/09 02:39:46 WARN NativeCodeLoader: Unable to load native-hadoop library for your platform... using builtin-java classes where applicable\n"
     ]
    }
   ],
   "source": [
    "sparkConf = pyspark.SparkConf() \\\n",
    "    .set(\"spark.executor.memory\", \"10g\")\\\n",
    "    .set(\"spark.driver.memory\", \"10g\")\\\n",
    "    .set(\"spark.driver.maxResultSize\", \"8g\")\n",
    "ss = pyspark.sql.SparkSession.builder.config(conf=sparkConf).master('local[1]').getOrCreate()"
   ]
  },
  {
   "cell_type": "markdown",
   "metadata": {},
   "source": [
    "# load data"
   ]
  },
  {
   "cell_type": "code",
   "execution_count": 4,
   "metadata": {},
   "outputs": [],
   "source": [
    "train_data = ss.read.orc('./hw_data/posts_train.orc')\n",
    "test_data = ss.read.orc('./hw_data/posts_test.orc')\n",
    "channel_data = ss.read.orc('./hw_data/channels_orc')"
   ]
  },
  {
   "cell_type": "code",
   "execution_count": 5,
   "metadata": {},
   "outputs": [
    {
     "name": "stdout",
     "output_type": "stream",
     "text": [
      "+----------+--------+-----+--------------------+-----+---------+------------+--------------------+------------+\n",
      "|channel_id|      id|tg_id|                text|views|has_image|is_forwarded|                date|forwarded_id|\n",
      "+----------+--------+-----+--------------------+-----+---------+------------+--------------------+------------+\n",
      "|       221|29741094| 7182|МК, а это вот про...|15368|        f|           f|2018-11-03 13:05:...|        NULL|\n",
      "|       221|46751120| 7388|Хочу пошутить, чт...|12448|        f|           f|2018-11-26 16:15:...|        NULL|\n",
      "|       221|32631368| 5512|Уточню: Котляр бы...|69984|        f|           f|2018-05-16 16:03:...|        NULL|\n",
      "|       221|46751758| 7173|Да не на два лаге...|10241|        f|           f|2018-11-02 13:45:...|        NULL|\n",
      "|       221|33073441| 3185|А что касается Уд...|46847|        f|           f|2017-08-10 13:44:...|        NULL|\n",
      "|       221|46751793| 7141|Кашин давно меня ...|    0|        f|           f|2018-10-30 22:04:...|        NULL|\n",
      "|       221|33426105| 7091|Оооо, дорогие мои...| 5732|        f|           f|2018-10-24 15:11:...|        NULL|\n",
      "|       221|46816313| 7387|Меня вот только А...|36815|        f|           f|2018-11-26 15:31:...|        NULL|\n",
      "|       221|33426134| 7056|                NULL| 6412|        t|           f|2018-10-19 12:03:...|        NULL|\n",
      "|       221|47504884| 7477|Смотрите, как инт...| 7701|        f|           f|2018-12-06 20:52:...|        NULL|\n",
      "|       221|33426281| 6901|Олег, у меня не у...|14951|        f|           f|2018-09-26 23:51:...|        NULL|\n",
      "|       221|47504886| 7476|Что-то происходит...| 8896|        f|           t|2018-12-06 15:37:...|    47504885|\n",
      "|       221|33426965| 5724|Написала большой ...| 7906|        f|           f|2018-06-09 18:00:...|        NULL|\n",
      "|       221|47504887| 7475|Апелляция на адми...| 6045|        f|           f|2018-12-06 14:34:...|        NULL|\n",
      "|       221|33427489| 5385|РКН запретил испо...| 9480|        f|           f|2018-04-29 09:37:...|        NULL|\n",
      "|       221|47504888| 7474|Взяла интервью у ...| 6232|        f|           f|2018-12-06 13:40:...|        NULL|\n",
      "|       221|33427576| 5324|Я даже больше ска...| 9972|        f|           f|2018-04-20 09:43:...|        NULL|\n",
      "|       221|47504889| 7473|По Сокурову отвра...| 2086|        f|           f|2018-12-06 12:24:...|        NULL|\n",
      "|       221|33427797| 5215|Как власть за пят...|16301|        f|           f|2018-03-30 17:01:...|        NULL|\n",
      "|       221|47504890| 7472|   Аргунское ущелье!| 2054|        t|           f|2018-12-06 12:18:...|        NULL|\n",
      "+----------+--------+-----+--------------------+-----+---------+------------+--------------------+------------+\n",
      "only showing top 20 rows\n",
      "\n"
     ]
    }
   ],
   "source": [
    "train_data.show()"
   ]
  },
  {
   "cell_type": "markdown",
   "metadata": {},
   "source": [
    "# make features"
   ]
  },
  {
   "cell_type": "code",
   "execution_count": 52,
   "metadata": {},
   "outputs": [],
   "source": [
    "from pyspark.sql.types import BooleanType, IntegerType\n",
    "import pyspark.sql.functions as fn\n",
    "# sch = SwearingCheck()\n",
    "\n",
    "contains_emoji = fn.udf(lambda s: False if s is None else any(map(lambda x: x in s, emoji.EMOJI_DATA.keys())), \n",
    "                           BooleanType())\n",
    "to_bool = fn.udf(lambda s: None if s is None else True if s == 't' else False)\n",
    "no_symbols = fn.udf(lambda s: None if s is None else re.sub('[!?;,.]', '', s))\n",
    "count_unique_words = fn.udf(lambda s: 0 if s is None else len(set(s.split(\" \"))) - 1)\n",
    "count_words = fn.udf(lambda s: 0 if s is None else len(s.split(\" \")) - 1)\n",
    "# count_sentences = fn.udf(lambda s: 0 if s is None else len(s.split(\".\")) - 1 if )\n",
    "\n",
    "@fn.udf(returnType=IntegerType())\n",
    "def count_sentences(s):\n",
    "    if s is None: return None\n",
    "    l = len(s.split(\".\"))\n",
    "    if l == 0:\n",
    "        if len(s) == 0: return 0\n",
    "        else: return 1\n",
    "    else: return l\n",
    "\n",
    "def NORMAL_OHE(df, cols):\n",
    "    for col_nm in cols:\n",
    "        categories = df.select(col_nm).distinct().rdd.flatMap(lambda x : x).collect()\n",
    "        categories.sort()\n",
    "        for category in categories[:-1]:\n",
    "            function = fn.udf(lambda item: 1 if item == category else 0, IntegerType())\n",
    "            new_column_name = f'{col_nm}_{category}'\n",
    "            df = df.withColumn(new_column_name, function(fn.col(col_nm)))\n",
    "        df = df.drop(col_nm)\n",
    "    return df\n",
    "\n",
    "\n",
    "\n",
    "\n",
    "def make_features(df):\n",
    "    \n",
    "    df = df.withColumn('Literate', df.text.contains(\", \"))\n",
    "    df = df.withColumn('Screaming', df.text.contains(\"!\"))\n",
    "    df = df.withColumn('Question', df.text.contains(\"?\"))\n",
    "    df = df.withColumn('Num_sentences', count_sentences(df.text))\n",
    "    df = df.withColumn('Num_words', count_words(no_symbols(df.text)))\n",
    "    df = df.withColumn(\"Distinct_words\", count_unique_words(no_symbols(df.text)))\n",
    "    # df= df.withColumn(\"Emoji_in_post\", contains_emoji(fn.col(\"text\")))\n",
    "    df = df.withColumn(\"Length_of_text\", fn.length(df.text))\n",
    "    df = df.withColumn(\"has_image\", to_bool(df.has_image))\n",
    "    df = df.withColumn(\"is_forwarded\", to_bool(df.is_forwarded))\n",
    "\n",
    "    df = df.withColumn(\"year\", fn.year(df.date))\n",
    "    df = df.withColumn(\"month\", fn.month(df.date))\n",
    "    df = df.withColumn(\"day\", fn.dayofmonth(df.date))\n",
    "    df = df.withColumn(\"day_week\", fn.dayofweek(df.date))\n",
    "    df = df.withColumn(\"hour\", fn.hour(df.date))\n",
    "    df = df.withColumn(\"minute\", fn.minute(df.date))\n",
    "    df = df.withColumn(\"second\", fn.second(df.date))\n",
    "    df = df.drop(\"date\")\n",
    "\n",
    "    df = df.withColumn(\"forwarded_id\", fn.isnotnull(df.forwarded_id))\n",
    "    df = df.fillna(False, subset=['Literate', 'Screaming', 'Question'])\n",
    "    df = df.fillna(0, subset=['Num_sentences', 'Length_of_text'])\n",
    "    \n",
    "    df =df.dropna()\n",
    "    df = NORMAL_OHE(df, cols = ['year', 'month', 'day', 'day_week', 'hour', 'minute', 'second'])\n",
    "\n",
    "    return df"
   ]
  },
  {
   "cell_type": "code",
   "execution_count": 53,
   "metadata": {},
   "outputs": [
    {
     "name": "stderr",
     "output_type": "stream",
     "text": [
      "                                                                                \r"
     ]
    },
    {
     "name": "stdout",
     "output_type": "stream",
     "text": [
      "+----------+--------+-----+--------------------+-----+---------+------------+------------+--------+---------+--------+-------------+---------+--------------+--------------+---------+---------+---------+-------+-------+-------+-------+-------+-------+-------+-------+-------+--------+--------+-----+-----+-----+-----+-----+-----+-----+-----+-----+------+------+------+------+------+------+------+------+------+------+------+------+------+------+------+------+------+------+------+------+------+----------+----------+----------+----------+----------+----------+------+------+------+------+------+------+------+------+------+------+-------+-------+-------+-------+-------+-------+-------+-------+-------+-------+-------+-------+-------+--------+--------+--------+--------+--------+--------+--------+--------+--------+--------+---------+---------+---------+---------+---------+---------+---------+---------+---------+---------+---------+---------+---------+---------+---------+---------+---------+---------+---------+---------+---------+---------+---------+---------+---------+---------+---------+---------+---------+---------+---------+---------+---------+---------+---------+---------+---------+---------+---------+---------+---------+---------+---------+---------+---------+---------+---------+---------+---------+--------+--------+--------+--------+--------+--------+--------+--------+--------+--------+---------+---------+---------+---------+---------+---------+---------+---------+---------+---------+---------+---------+---------+---------+---------+---------+---------+---------+---------+---------+---------+---------+---------+---------+---------+---------+---------+---------+---------+---------+---------+---------+---------+---------+---------+---------+---------+---------+---------+---------+---------+---------+---------+---------+---------+---------+---------+---------+---------+\n",
      "|channel_id|      id|tg_id|                text|views|has_image|is_forwarded|forwarded_id|Literate|Screaming|Question|Num_sentences|Num_words|Distinct_words|Length_of_text|year_2015|year_2016|year_2017|month_1|month_2|month_3|month_4|month_5|month_6|month_7|month_8|month_9|month_10|month_11|day_1|day_2|day_3|day_4|day_5|day_6|day_7|day_8|day_9|day_10|day_11|day_12|day_13|day_14|day_15|day_16|day_17|day_18|day_19|day_20|day_21|day_22|day_23|day_24|day_25|day_26|day_27|day_28|day_29|day_30|day_week_1|day_week_2|day_week_3|day_week_4|day_week_5|day_week_6|hour_0|hour_1|hour_2|hour_3|hour_4|hour_5|hour_6|hour_7|hour_8|hour_9|hour_10|hour_11|hour_12|hour_13|hour_14|hour_15|hour_16|hour_17|hour_18|hour_19|hour_20|hour_21|hour_22|minute_0|minute_1|minute_2|minute_3|minute_4|minute_5|minute_6|minute_7|minute_8|minute_9|minute_10|minute_11|minute_12|minute_13|minute_14|minute_15|minute_16|minute_17|minute_18|minute_19|minute_20|minute_21|minute_22|minute_23|minute_24|minute_25|minute_26|minute_27|minute_28|minute_29|minute_30|minute_31|minute_32|minute_33|minute_34|minute_35|minute_36|minute_37|minute_38|minute_39|minute_40|minute_41|minute_42|minute_43|minute_44|minute_45|minute_46|minute_47|minute_48|minute_49|minute_50|minute_51|minute_52|minute_53|minute_54|minute_55|minute_56|minute_57|minute_58|second_0|second_1|second_2|second_3|second_4|second_5|second_6|second_7|second_8|second_9|second_10|second_11|second_12|second_13|second_14|second_15|second_16|second_17|second_18|second_19|second_20|second_21|second_22|second_23|second_24|second_25|second_26|second_27|second_28|second_29|second_30|second_31|second_32|second_33|second_34|second_35|second_36|second_37|second_38|second_39|second_40|second_41|second_42|second_43|second_44|second_45|second_46|second_47|second_48|second_49|second_50|second_51|second_52|second_53|second_54|second_55|second_56|second_57|second_58|\n",
      "+----------+--------+-----+--------------------+-----+---------+------------+------------+--------+---------+--------+-------------+---------+--------------+--------------+---------+---------+---------+-------+-------+-------+-------+-------+-------+-------+-------+-------+--------+--------+-----+-----+-----+-----+-----+-----+-----+-----+-----+------+------+------+------+------+------+------+------+------+------+------+------+------+------+------+------+------+------+------+------+------+----------+----------+----------+----------+----------+----------+------+------+------+------+------+------+------+------+------+------+-------+-------+-------+-------+-------+-------+-------+-------+-------+-------+-------+-------+-------+--------+--------+--------+--------+--------+--------+--------+--------+--------+--------+---------+---------+---------+---------+---------+---------+---------+---------+---------+---------+---------+---------+---------+---------+---------+---------+---------+---------+---------+---------+---------+---------+---------+---------+---------+---------+---------+---------+---------+---------+---------+---------+---------+---------+---------+---------+---------+---------+---------+---------+---------+---------+---------+---------+---------+---------+---------+---------+---------+--------+--------+--------+--------+--------+--------+--------+--------+--------+--------+---------+---------+---------+---------+---------+---------+---------+---------+---------+---------+---------+---------+---------+---------+---------+---------+---------+---------+---------+---------+---------+---------+---------+---------+---------+---------+---------+---------+---------+---------+---------+---------+---------+---------+---------+---------+---------+---------+---------+---------+---------+---------+---------+---------+---------+---------+---------+---------+---------+\n",
      "|       221|29741094| 7182|МК, а это вот про...|15368|    false|       false|       false|    true|    false|    true|            2|        5|             5|            60|        0|        0|        0|      0|      0|      0|      0|      0|      0|      0|      0|      0|       0|       1|    0|    0|    1|    0|    0|    0|    0|    0|    0|     0|     0|     0|     0|     0|     0|     0|     0|     0|     0|     0|     0|     0|     0|     0|     0|     0|     0|     0|     0|     0|         0|         0|         0|         0|         0|         0|     0|     0|     0|     0|     0|     0|     0|     0|     0|     0|      0|      0|      0|      0|      0|      0|      1|      0|      0|      0|      0|      0|      0|       0|       0|       0|       0|       0|       1|       0|       0|       0|       0|        0|        0|        0|        0|        0|        0|        0|        0|        0|        0|        0|        0|        0|        0|        0|        0|        0|        0|        0|        0|        0|        0|        0|        0|        0|        0|        0|        0|        0|        0|        0|        0|        0|        0|        0|        0|        0|        0|        0|        0|        0|        0|        0|        0|        0|        0|        0|        0|        0|       0|       0|       0|       0|       0|       0|       0|       0|       0|       0|        0|        0|        0|        0|        0|        0|        0|        0|        0|        0|        0|        1|        0|        0|        0|        0|        0|        0|        0|        0|        0|        0|        0|        0|        0|        0|        0|        0|        0|        0|        0|        0|        0|        0|        0|        0|        0|        0|        0|        0|        0|        0|        0|        0|        0|        0|        0|        0|        0|\n",
      "|       221|46751120| 7388|Хочу пошутить, чт...|12448|    false|       false|       false|    true|    false|   false|            3|       27|            26|           193|        0|        0|        0|      0|      0|      0|      0|      0|      0|      0|      0|      0|       0|       1|    0|    0|    0|    0|    0|    0|    0|    0|    0|     0|     0|     0|     0|     0|     0|     0|     0|     0|     0|     0|     0|     0|     0|     0|     0|     1|     0|     0|     0|     0|         0|         1|         0|         0|         0|         0|     0|     0|     0|     0|     0|     0|     0|     0|     0|     0|      0|      0|      0|      0|      0|      0|      0|      0|      0|      1|      0|      0|      0|       0|       0|       0|       0|       0|       0|       0|       0|       0|       0|        0|        0|        0|        0|        0|        1|        0|        0|        0|        0|        0|        0|        0|        0|        0|        0|        0|        0|        0|        0|        0|        0|        0|        0|        0|        0|        0|        0|        0|        0|        0|        0|        0|        0|        0|        0|        0|        0|        0|        0|        0|        0|        0|        0|        0|        0|        0|        0|        0|       1|       0|       0|       0|       0|       0|       0|       0|       0|       0|        0|        0|        0|        0|        0|        0|        0|        0|        0|        0|        0|        0|        0|        0|        0|        0|        0|        0|        0|        0|        0|        0|        0|        0|        0|        0|        0|        0|        0|        0|        0|        0|        0|        0|        0|        0|        0|        0|        0|        0|        0|        0|        0|        0|        0|        0|        0|        0|        0|\n",
      "|       221|32631368| 5512|Уточню: Котляр бы...|69984|    false|       false|       false|    true|    false|   false|            6|       27|            24|           207|        0|        0|        0|      0|      0|      0|      0|      1|      0|      0|      0|      0|       0|       0|    0|    0|    0|    0|    0|    0|    0|    0|    0|     0|     0|     0|     0|     0|     0|     1|     0|     0|     0|     0|     0|     0|     0|     0|     0|     0|     0|     0|     0|     0|         0|         0|         0|         1|         0|         0|     0|     0|     0|     0|     0|     0|     0|     0|     0|     0|      0|      0|      0|      0|      0|      0|      0|      0|      0|      1|      0|      0|      0|       0|       0|       0|       1|       0|       0|       0|       0|       0|       0|        0|        0|        0|        0|        0|        0|        0|        0|        0|        0|        0|        0|        0|        0|        0|        0|        0|        0|        0|        0|        0|        0|        0|        0|        0|        0|        0|        0|        0|        0|        0|        0|        0|        0|        0|        0|        0|        0|        0|        0|        0|        0|        0|        0|        0|        0|        0|        0|        0|       0|       0|       0|       0|       0|       0|       0|       0|       0|       0|        0|        0|        0|        0|        0|        0|        0|        0|        0|        0|        0|        0|        0|        0|        0|        0|        0|        0|        0|        0|        0|        0|        0|        0|        0|        0|        0|        0|        0|        0|        0|        0|        0|        0|        0|        0|        0|        0|        0|        0|        0|        0|        1|        0|        0|        0|        0|        0|        0|\n",
      "|       221|46751758| 7173|Да не на два лаге...|10241|    false|       false|       false|    true|     true|   false|            2|       18|            17|           144|        0|        0|        0|      0|      0|      0|      0|      0|      0|      0|      0|      0|       0|       1|    0|    1|    0|    0|    0|    0|    0|    0|    0|     0|     0|     0|     0|     0|     0|     0|     0|     0|     0|     0|     0|     0|     0|     0|     0|     0|     0|     0|     0|     0|         0|         0|         0|         0|         0|         1|     0|     0|     0|     0|     0|     0|     0|     0|     0|     0|      0|      0|      0|      0|      0|      0|      1|      0|      0|      0|      0|      0|      0|       0|       0|       0|       0|       0|       0|       0|       0|       0|       0|        0|        0|        0|        0|        0|        0|        0|        0|        0|        0|        0|        0|        0|        0|        0|        0|        0|        0|        0|        0|        0|        0|        0|        0|        0|        0|        0|        0|        0|        0|        0|        0|        0|        0|        0|        1|        0|        0|        0|        0|        0|        0|        0|        0|        0|        0|        0|        0|        0|       0|       0|       0|       0|       0|       0|       0|       0|       0|       0|        0|        0|        0|        0|        0|        0|        0|        0|        0|        0|        0|        0|        0|        0|        0|        0|        0|        0|        0|        0|        0|        0|        0|        0|        0|        0|        0|        0|        1|        0|        0|        0|        0|        0|        0|        0|        0|        0|        0|        0|        0|        0|        0|        0|        0|        0|        0|        0|        0|\n",
      "|       221|33073441| 3185|А что касается Уд...|46847|    false|       false|       false|    true|    false|   false|            3|       36|            30|           230|        0|        0|        1|      0|      0|      0|      0|      0|      0|      0|      1|      0|       0|       0|    0|    0|    0|    0|    0|    0|    0|    0|    0|     1|     0|     0|     0|     0|     0|     0|     0|     0|     0|     0|     0|     0|     0|     0|     0|     0|     0|     0|     0|     0|         0|         0|         0|         0|         1|         0|     0|     0|     0|     0|     0|     0|     0|     0|     0|     0|      0|      0|      0|      0|      0|      0|      1|      0|      0|      0|      0|      0|      0|       0|       0|       0|       0|       0|       0|       0|       0|       0|       0|        0|        0|        0|        0|        0|        0|        0|        0|        0|        0|        0|        0|        0|        0|        0|        0|        0|        0|        0|        0|        0|        0|        0|        0|        0|        0|        0|        0|        0|        0|        0|        0|        0|        0|        1|        0|        0|        0|        0|        0|        0|        0|        0|        0|        0|        0|        0|        0|        0|       0|       0|       0|       0|       0|       0|       0|       0|       0|       0|        0|        0|        0|        0|        0|        0|        0|        0|        0|        0|        0|        0|        0|        0|        0|        0|        0|        0|        0|        0|        0|        0|        0|        0|        0|        0|        0|        0|        0|        0|        0|        0|        0|        0|        0|        0|        0|        0|        0|        0|        0|        0|        0|        0|        0|        0|        1|        0|        0|\n",
      "|       221|46751793| 7141|Кашин давно меня ...|    0|    false|       false|       false|    true|    false|   false|            4|       19|            18|           121|        0|        0|        0|      0|      0|      0|      0|      0|      0|      0|      0|      0|       1|       0|    0|    0|    0|    0|    0|    0|    0|    0|    0|     0|     0|     0|     0|     0|     0|     0|     0|     0|     0|     0|     0|     0|     0|     0|     0|     0|     0|     0|     0|     1|         0|         0|         1|         0|         0|         0|     0|     1|     0|     0|     0|     0|     0|     0|     0|     0|      0|      0|      0|      0|      0|      0|      0|      0|      0|      0|      0|      0|      0|       0|       0|       0|       0|       1|       0|       0|       0|       0|       0|        0|        0|        0|        0|        0|        0|        0|        0|        0|        0|        0|        0|        0|        0|        0|        0|        0|        0|        0|        0|        0|        0|        0|        0|        0|        0|        0|        0|        0|        0|        0|        0|        0|        0|        0|        0|        0|        0|        0|        0|        0|        0|        0|        0|        0|        0|        0|        0|        0|       0|       0|       0|       0|       0|       0|       0|       0|       0|       0|        0|        0|        0|        0|        0|        0|        0|        0|        0|        0|        0|        0|        0|        0|        0|        1|        0|        0|        0|        0|        0|        0|        0|        0|        0|        0|        0|        0|        0|        0|        0|        0|        0|        0|        0|        0|        0|        0|        0|        0|        0|        0|        0|        0|        0|        0|        0|        0|        0|\n",
      "|       221|33426105| 7091|Оооо, дорогие мои...| 5732|    false|       false|       false|    true|    false|    true|            8|       69|            62|           547|        0|        0|        0|      0|      0|      0|      0|      0|      0|      0|      0|      0|       1|       0|    0|    0|    0|    0|    0|    0|    0|    0|    0|     0|     0|     0|     0|     0|     0|     0|     0|     0|     0|     0|     0|     0|     0|     1|     0|     0|     0|     0|     0|     0|         0|         0|         0|         1|         0|         0|     0|     0|     0|     0|     0|     0|     0|     0|     0|     0|      0|      0|      0|      0|      0|      0|      0|      0|      1|      0|      0|      0|      0|       0|       0|       0|       0|       0|       0|       0|       0|       0|       0|        0|        1|        0|        0|        0|        0|        0|        0|        0|        0|        0|        0|        0|        0|        0|        0|        0|        0|        0|        0|        0|        0|        0|        0|        0|        0|        0|        0|        0|        0|        0|        0|        0|        0|        0|        0|        0|        0|        0|        0|        0|        0|        0|        0|        0|        0|        0|        0|        0|       0|       0|       0|       0|       0|       0|       0|       0|       0|       0|        0|        0|        0|        0|        0|        0|        0|        0|        0|        0|        0|        0|        0|        0|        0|        0|        0|        0|        0|        0|        0|        0|        0|        0|        0|        0|        0|        0|        0|        0|        0|        0|        0|        0|        0|        0|        0|        0|        0|        0|        0|        0|        0|        0|        0|        0|        1|        0|        0|\n",
      "|       221|46816313| 7387|Меня вот только А...|36815|    false|       false|       false|    true|    false|   false|            2|       26|            24|           178|        0|        0|        0|      0|      0|      0|      0|      0|      0|      0|      0|      0|       0|       1|    0|    0|    0|    0|    0|    0|    0|    0|    0|     0|     0|     0|     0|     0|     0|     0|     0|     0|     0|     0|     0|     0|     0|     0|     0|     1|     0|     0|     0|     0|         0|         1|         0|         0|         0|         0|     0|     0|     0|     0|     0|     0|     0|     0|     0|     0|      0|      0|      0|      0|      0|      0|      0|      0|      1|      0|      0|      0|      0|       0|       0|       0|       0|       0|       0|       0|       0|       0|       0|        0|        0|        0|        0|        0|        0|        0|        0|        0|        0|        0|        0|        0|        0|        0|        0|        0|        0|        0|        0|        0|        1|        0|        0|        0|        0|        0|        0|        0|        0|        0|        0|        0|        0|        0|        0|        0|        0|        0|        0|        0|        0|        0|        0|        0|        0|        0|        0|        0|       0|       0|       0|       0|       0|       0|       0|       0|       0|       0|        0|        0|        0|        0|        0|        0|        0|        0|        0|        0|        0|        0|        0|        0|        0|        0|        0|        0|        0|        0|        0|        0|        0|        0|        0|        0|        0|        0|        0|        0|        0|        0|        0|        0|        0|        0|        0|        0|        0|        0|        0|        0|        0|        0|        1|        0|        0|        0|        0|\n",
      "|       221|47504884| 7477|Смотрите, как инт...| 7701|    false|       false|       false|    true|    false|   false|            4|        6|             6|           110|        0|        0|        0|      0|      0|      0|      0|      0|      0|      0|      0|      0|       0|       0|    0|    0|    0|    0|    0|    1|    0|    0|    0|     0|     0|     0|     0|     0|     0|     0|     0|     0|     0|     0|     0|     0|     0|     0|     0|     0|     0|     0|     0|     0|         0|         0|         0|         0|         1|         0|     0|     0|     0|     0|     0|     0|     0|     0|     0|     0|      0|      0|      0|      0|      0|      0|      0|      0|      0|      0|      0|      0|      0|       0|       0|       0|       0|       0|       0|       0|       0|       0|       0|        0|        0|        0|        0|        0|        0|        0|        0|        0|        0|        0|        0|        0|        0|        0|        0|        0|        0|        0|        0|        0|        0|        0|        0|        0|        0|        0|        0|        0|        0|        0|        0|        0|        0|        0|        0|        0|        0|        0|        0|        0|        0|        1|        0|        0|        0|        0|        0|        0|       0|       0|       0|       0|       0|       0|       0|       0|       0|       0|        0|        0|        0|        0|        0|        0|        0|        0|        0|        0|        0|        0|        0|        0|        0|        0|        0|        0|        0|        0|        0|        0|        0|        0|        0|        0|        0|        0|        0|        0|        0|        0|        0|        0|        0|        0|        0|        0|        0|        0|        0|        0|        1|        0|        0|        0|        0|        0|        0|\n",
      "|       221|33426281| 6901|Олег, у меня не у...|14951|    false|       false|       false|    true|    false|   false|            4|       20|            19|           148|        0|        0|        0|      0|      0|      0|      0|      0|      0|      0|      0|      1|       0|       0|    0|    0|    0|    0|    0|    0|    0|    0|    0|     0|     0|     0|     0|     0|     0|     0|     0|     0|     0|     0|     0|     0|     0|     0|     0|     1|     0|     0|     0|     0|         0|         0|         0|         1|         0|         0|     0|     0|     1|     0|     0|     0|     0|     0|     0|     0|      0|      0|      0|      0|      0|      0|      0|      0|      0|      0|      0|      0|      0|       0|       0|       0|       0|       0|       0|       0|       0|       0|       0|        0|        0|        0|        0|        0|        0|        0|        0|        0|        0|        0|        0|        0|        0|        0|        0|        0|        0|        0|        0|        0|        0|        0|        0|        0|        0|        0|        0|        0|        0|        0|        0|        0|        0|        0|        0|        0|        0|        0|        0|        0|        1|        0|        0|        0|        0|        0|        0|        0|       0|       0|       0|       0|       0|       0|       0|       1|       0|       0|        0|        0|        0|        0|        0|        0|        0|        0|        0|        0|        0|        0|        0|        0|        0|        0|        0|        0|        0|        0|        0|        0|        0|        0|        0|        0|        0|        0|        0|        0|        0|        0|        0|        0|        0|        0|        0|        0|        0|        0|        0|        0|        0|        0|        0|        0|        0|        0|        0|\n",
      "|       221|47504886| 7476|Что-то происходит...| 8896|    false|        true|        true|    true|    false|    true|            4|       23|            21|           163|        0|        0|        0|      0|      0|      0|      0|      0|      0|      0|      0|      0|       0|       0|    0|    0|    0|    0|    0|    1|    0|    0|    0|     0|     0|     0|     0|     0|     0|     0|     0|     0|     0|     0|     0|     0|     0|     0|     0|     0|     0|     0|     0|     0|         0|         0|         0|         0|         1|         0|     0|     0|     0|     0|     0|     0|     0|     0|     0|     0|      0|      0|      0|      0|      0|      0|      0|      0|      1|      0|      0|      0|      0|       0|       0|       0|       0|       0|       0|       0|       0|       0|       0|        0|        0|        0|        0|        0|        0|        0|        0|        0|        0|        0|        0|        0|        0|        0|        0|        0|        0|        0|        0|        0|        0|        0|        0|        0|        0|        0|        1|        0|        0|        0|        0|        0|        0|        0|        0|        0|        0|        0|        0|        0|        0|        0|        0|        0|        0|        0|        0|        0|       0|       0|       0|       0|       0|       0|       0|       0|       0|       0|        0|        0|        0|        0|        0|        0|        0|        0|        0|        0|        0|        0|        0|        0|        0|        0|        0|        0|        0|        0|        0|        0|        0|        0|        0|        0|        1|        0|        0|        0|        0|        0|        0|        0|        0|        0|        0|        0|        0|        0|        0|        0|        0|        0|        0|        0|        0|        0|        0|\n",
      "|       221|33426965| 5724|Написала большой ...| 7906|    false|       false|       false|    true|    false|   false|            4|       15|            14|           203|        0|        0|        0|      0|      0|      0|      0|      0|      1|      0|      0|      0|       0|       0|    0|    0|    0|    0|    0|    0|    0|    0|    1|     0|     0|     0|     0|     0|     0|     0|     0|     0|     0|     0|     0|     0|     0|     0|     0|     0|     0|     0|     0|     0|         0|         0|         0|         0|         0|         0|     0|     0|     0|     0|     0|     0|     0|     0|     0|     0|      0|      0|      0|      0|      0|      0|      0|      0|      0|      0|      0|      1|      0|       1|       0|       0|       0|       0|       0|       0|       0|       0|       0|        0|        0|        0|        0|        0|        0|        0|        0|        0|        0|        0|        0|        0|        0|        0|        0|        0|        0|        0|        0|        0|        0|        0|        0|        0|        0|        0|        0|        0|        0|        0|        0|        0|        0|        0|        0|        0|        0|        0|        0|        0|        0|        0|        0|        0|        0|        0|        0|        0|       0|       0|       0|       0|       0|       0|       0|       0|       0|       0|        0|        0|        0|        0|        0|        0|        0|        0|        0|        0|        0|        0|        0|        0|        0|        0|        0|        0|        0|        0|        0|        0|        0|        0|        0|        0|        0|        0|        0|        0|        0|        0|        0|        1|        0|        0|        0|        0|        0|        0|        0|        0|        0|        0|        0|        0|        0|        0|        0|\n",
      "|       221|47504887| 7475|Апелляция на адми...| 6045|    false|       false|       false|    true|    false|   false|            2|       19|            18|           160|        0|        0|        0|      0|      0|      0|      0|      0|      0|      0|      0|      0|       0|       0|    0|    0|    0|    0|    0|    1|    0|    0|    0|     0|     0|     0|     0|     0|     0|     0|     0|     0|     0|     0|     0|     0|     0|     0|     0|     0|     0|     0|     0|     0|         0|         0|         0|         0|         1|         0|     0|     0|     0|     0|     0|     0|     0|     0|     0|     0|      0|      0|      0|      0|      0|      0|      0|      1|      0|      0|      0|      0|      0|       0|       0|       0|       0|       0|       0|       0|       0|       0|       0|        0|        0|        0|        0|        0|        0|        0|        0|        0|        0|        0|        0|        0|        0|        0|        0|        0|        0|        0|        0|        0|        0|        0|        0|        1|        0|        0|        0|        0|        0|        0|        0|        0|        0|        0|        0|        0|        0|        0|        0|        0|        0|        0|        0|        0|        0|        0|        0|        0|       0|       0|       0|       0|       0|       0|       0|       0|       0|       0|        0|        0|        0|        0|        0|        0|        0|        0|        0|        0|        0|        1|        0|        0|        0|        0|        0|        0|        0|        0|        0|        0|        0|        0|        0|        0|        0|        0|        0|        0|        0|        0|        0|        0|        0|        0|        0|        0|        0|        0|        0|        0|        0|        0|        0|        0|        0|        0|        0|\n",
      "|       221|33427489| 5385|РКН запретил испо...| 9480|    false|       false|       false|    true|    false|   false|            2|        5|             5|            49|        0|        0|        0|      0|      0|      0|      1|      0|      0|      0|      0|      0|       0|       0|    0|    0|    0|    0|    0|    0|    0|    0|    0|     0|     0|     0|     0|     0|     0|     0|     0|     0|     0|     0|     0|     0|     0|     0|     0|     0|     0|     0|     1|     0|         1|         0|         0|         0|         0|         0|     0|     0|     0|     0|     0|     0|     0|     0|     0|     0|      0|      0|      1|      0|      0|      0|      0|      0|      0|      0|      0|      0|      0|       0|       0|       0|       0|       0|       0|       0|       0|       0|       0|        0|        0|        0|        0|        0|        0|        0|        0|        0|        0|        0|        0|        0|        0|        0|        0|        0|        0|        0|        0|        0|        0|        0|        0|        0|        0|        0|        1|        0|        0|        0|        0|        0|        0|        0|        0|        0|        0|        0|        0|        0|        0|        0|        0|        0|        0|        0|        0|        0|       0|       0|       0|       0|       0|       0|       0|       0|       0|       0|        0|        0|        0|        0|        0|        0|        0|        0|        0|        0|        0|        0|        0|        0|        0|        0|        0|        0|        0|        0|        0|        0|        0|        0|        0|        0|        0|        0|        0|        0|        0|        0|        0|        0|        0|        0|        0|        0|        0|        0|        0|        0|        0|        1|        0|        0|        0|        0|        0|\n",
      "|       221|47504888| 7474|Взяла интервью у ...| 6232|    false|       false|       false|    true|    false|   false|            4|       25|            25|           300|        0|        0|        0|      0|      0|      0|      0|      0|      0|      0|      0|      0|       0|       0|    0|    0|    0|    0|    0|    1|    0|    0|    0|     0|     0|     0|     0|     0|     0|     0|     0|     0|     0|     0|     0|     0|     0|     0|     0|     0|     0|     0|     0|     0|         0|         0|         0|         0|         1|         0|     0|     0|     0|     0|     0|     0|     0|     0|     0|     0|      0|      0|      0|      0|      0|      0|      1|      0|      0|      0|      0|      0|      0|       0|       0|       0|       0|       0|       0|       0|       0|       0|       0|        0|        0|        0|        0|        0|        0|        0|        0|        0|        0|        0|        0|        0|        0|        0|        0|        0|        0|        0|        0|        0|        0|        0|        0|        0|        0|        0|        0|        0|        0|        1|        0|        0|        0|        0|        0|        0|        0|        0|        0|        0|        0|        0|        0|        0|        0|        0|        0|        0|       0|       0|       0|       0|       0|       0|       0|       0|       0|       0|        0|        0|        0|        0|        0|        0|        0|        0|        0|        0|        0|        0|        0|        0|        0|        0|        0|        0|        0|        0|        0|        0|        0|        0|        0|        0|        0|        0|        0|        0|        0|        0|        0|        0|        0|        0|        0|        0|        0|        0|        0|        0|        1|        0|        0|        0|        0|        0|        0|\n",
      "|       221|33427576| 5324|Я даже больше ска...| 9972|    false|       false|       false|    true|     true|   false|            3|        8|             8|            89|        0|        0|        0|      0|      0|      0|      1|      0|      0|      0|      0|      0|       0|       0|    0|    0|    0|    0|    0|    0|    0|    0|    0|     0|     0|     0|     0|     0|     0|     0|     0|     0|     0|     1|     0|     0|     0|     0|     0|     0|     0|     0|     0|     0|         0|         0|         0|         0|         0|         1|     0|     0|     0|     0|     0|     0|     0|     0|     0|     0|      0|      0|      1|      0|      0|      0|      0|      0|      0|      0|      0|      0|      0|       0|       0|       0|       0|       0|       0|       0|       0|       0|       0|        0|        0|        0|        0|        0|        0|        0|        0|        0|        0|        0|        0|        0|        0|        0|        0|        0|        0|        0|        0|        0|        0|        0|        0|        0|        0|        0|        0|        0|        0|        0|        0|        0|        1|        0|        0|        0|        0|        0|        0|        0|        0|        0|        0|        0|        0|        0|        0|        0|       0|       0|       0|       0|       0|       0|       0|       0|       0|       0|        0|        0|        0|        0|        0|        0|        0|        0|        0|        0|        0|        0|        0|        0|        0|        0|        0|        1|        0|        0|        0|        0|        0|        0|        0|        0|        0|        0|        0|        0|        0|        0|        0|        0|        0|        0|        0|        0|        0|        0|        0|        0|        0|        0|        0|        0|        0|        0|        0|\n",
      "|       221|47504889| 7473|По Сокурову отвра...| 2086|    false|       false|       false|    true|    false|   false|            3|       16|            16|           127|        0|        0|        0|      0|      0|      0|      0|      0|      0|      0|      0|      0|       0|       0|    0|    0|    0|    0|    0|    1|    0|    0|    0|     0|     0|     0|     0|     0|     0|     0|     0|     0|     0|     0|     0|     0|     0|     0|     0|     0|     0|     0|     0|     0|         0|         0|         0|         0|         1|         0|     0|     0|     0|     0|     0|     0|     0|     0|     0|     0|      0|      0|      0|      0|      0|      1|      0|      0|      0|      0|      0|      0|      0|       0|       0|       0|       0|       0|       0|       0|       0|       0|       0|        0|        0|        0|        0|        0|        0|        0|        0|        0|        0|        0|        0|        0|        0|        1|        0|        0|        0|        0|        0|        0|        0|        0|        0|        0|        0|        0|        0|        0|        0|        0|        0|        0|        0|        0|        0|        0|        0|        0|        0|        0|        0|        0|        0|        0|        0|        0|        0|        0|       0|       0|       0|       0|       0|       0|       0|       0|       0|       0|        1|        0|        0|        0|        0|        0|        0|        0|        0|        0|        0|        0|        0|        0|        0|        0|        0|        0|        0|        0|        0|        0|        0|        0|        0|        0|        0|        0|        0|        0|        0|        0|        0|        0|        0|        0|        0|        0|        0|        0|        0|        0|        0|        0|        0|        0|        0|        0|        0|\n",
      "|       221|33427797| 5215|Как власть за пят...|16301|    false|       false|       false|   false|    false|   false|            4|       16|            16|           188|        0|        0|        0|      0|      0|      1|      0|      0|      0|      0|      0|      0|       0|       0|    0|    0|    0|    0|    0|    0|    0|    0|    0|     0|     0|     0|     0|     0|     0|     0|     0|     0|     0|     0|     0|     0|     0|     0|     0|     0|     0|     0|     0|     1|         0|         0|         0|         0|         0|         1|     0|     0|     0|     0|     0|     0|     0|     0|     0|     0|      0|      0|      0|      0|      0|      0|      0|      0|      0|      0|      1|      0|      0|       0|       1|       0|       0|       0|       0|       0|       0|       0|       0|        0|        0|        0|        0|        0|        0|        0|        0|        0|        0|        0|        0|        0|        0|        0|        0|        0|        0|        0|        0|        0|        0|        0|        0|        0|        0|        0|        0|        0|        0|        0|        0|        0|        0|        0|        0|        0|        0|        0|        0|        0|        0|        0|        0|        0|        0|        0|        0|        0|       0|       0|       0|       0|       0|       0|       0|       0|       0|       0|        1|        0|        0|        0|        0|        0|        0|        0|        0|        0|        0|        0|        0|        0|        0|        0|        0|        0|        0|        0|        0|        0|        0|        0|        0|        0|        0|        0|        0|        0|        0|        0|        0|        0|        0|        0|        0|        0|        0|        0|        0|        0|        0|        0|        0|        0|        0|        0|        0|\n",
      "|       221|47504890| 7472|   Аргунское ущелье!| 2054|     true|       false|       false|   false|     true|   false|            1|        1|             1|            17|        0|        0|        0|      0|      0|      0|      0|      0|      0|      0|      0|      0|       0|       0|    0|    0|    0|    0|    0|    1|    0|    0|    0|     0|     0|     0|     0|     0|     0|     0|     0|     0|     0|     0|     0|     0|     0|     0|     0|     0|     0|     0|     0|     0|         0|         0|         0|         0|         1|         0|     0|     0|     0|     0|     0|     0|     0|     0|     0|     0|      0|      0|      0|      0|      0|      1|      0|      0|      0|      0|      0|      0|      0|       0|       0|       0|       0|       0|       0|       0|       0|       0|       0|        0|        0|        0|        0|        0|        0|        0|        0|        1|        0|        0|        0|        0|        0|        0|        0|        0|        0|        0|        0|        0|        0|        0|        0|        0|        0|        0|        0|        0|        0|        0|        0|        0|        0|        0|        0|        0|        0|        0|        0|        0|        0|        0|        0|        0|        0|        0|        0|        0|       0|       0|       0|       0|       0|       0|       0|       0|       0|       0|        0|        0|        0|        0|        0|        0|        0|        0|        0|        0|        0|        0|        0|        1|        0|        0|        0|        0|        0|        0|        0|        0|        0|        0|        0|        0|        0|        0|        0|        0|        0|        0|        0|        0|        0|        0|        0|        0|        0|        0|        0|        0|        0|        0|        0|        0|        0|        0|        0|\n",
      "|       221|33428124| 4976|Кстати, для тех, ...|13609|    false|       false|       false|    true|    false|   false|            6|       45|            39|           288|        0|        0|        0|      0|      0|      1|      0|      0|      0|      0|      0|      0|       0|       0|    0|    0|    0|    0|    0|    0|    1|    0|    0|     0|     0|     0|     0|     0|     0|     0|     0|     0|     0|     0|     0|     0|     0|     0|     0|     0|     0|     0|     0|     0|         0|         0|         0|         1|         0|         0|     0|     0|     0|     0|     0|     0|     0|     0|     0|     0|      0|      0|      0|      0|      0|      0|      0|      0|      1|      0|      0|      0|      0|       0|       0|       0|       0|       0|       0|       0|       0|       0|       0|        0|        0|        0|        0|        0|        0|        0|        0|        0|        0|        0|        0|        0|        0|        0|        0|        0|        0|        0|        0|        0|        0|        0|        0|        0|        0|        0|        0|        0|        0|        0|        0|        0|        0|        0|        0|        1|        0|        0|        0|        0|        0|        0|        0|        0|        0|        0|        0|        0|       0|       0|       0|       0|       0|       0|       0|       0|       0|       0|        0|        0|        0|        0|        0|        0|        0|        0|        0|        0|        0|        0|        0|        0|        0|        0|        0|        0|        0|        0|        0|        0|        0|        0|        0|        0|        0|        0|        0|        0|        0|        0|        0|        0|        0|        0|        0|        0|        0|        0|        0|        0|        0|        0|        0|        0|        0|        1|        0|\n",
      "+----------+--------+-----+--------------------+-----+---------+------------+------------+--------+---------+--------+-------------+---------+--------------+--------------+---------+---------+---------+-------+-------+-------+-------+-------+-------+-------+-------+-------+--------+--------+-----+-----+-----+-----+-----+-----+-----+-----+-----+------+------+------+------+------+------+------+------+------+------+------+------+------+------+------+------+------+------+------+------+------+----------+----------+----------+----------+----------+----------+------+------+------+------+------+------+------+------+------+------+-------+-------+-------+-------+-------+-------+-------+-------+-------+-------+-------+-------+-------+--------+--------+--------+--------+--------+--------+--------+--------+--------+--------+---------+---------+---------+---------+---------+---------+---------+---------+---------+---------+---------+---------+---------+---------+---------+---------+---------+---------+---------+---------+---------+---------+---------+---------+---------+---------+---------+---------+---------+---------+---------+---------+---------+---------+---------+---------+---------+---------+---------+---------+---------+---------+---------+---------+---------+---------+---------+---------+---------+--------+--------+--------+--------+--------+--------+--------+--------+--------+--------+---------+---------+---------+---------+---------+---------+---------+---------+---------+---------+---------+---------+---------+---------+---------+---------+---------+---------+---------+---------+---------+---------+---------+---------+---------+---------+---------+---------+---------+---------+---------+---------+---------+---------+---------+---------+---------+---------+---------+---------+---------+---------+---------+---------+---------+---------+---------+---------+---------+\n",
      "only showing top 20 rows\n",
      "\n"
     ]
    }
   ],
   "source": [
    "train_features = make_features(train_data)#.cache()\n",
    "test_features = make_features(test_data)#.cache()\n",
    "train_features.show()"
   ]
  },
  {
   "cell_type": "code",
   "execution_count": null,
   "metadata": {},
   "outputs": [
    {
     "ename": "AnalysisException",
     "evalue": "[UNSUPPORTED_DATA_TYPE_FOR_DATASOURCE] The CSV datasource doesn't support the column `SPLIT` of the type \"ARRAY<STRING>\".",
     "output_type": "error",
     "traceback": [
      "\u001b[0;31m---------------------------------------------------------------------------\u001b[0m",
      "\u001b[0;31mAnalysisException\u001b[0m                         Traceback (most recent call last)",
      "Cell \u001b[0;32mIn[9], line 1\u001b[0m\n\u001b[0;32m----> 1\u001b[0m \u001b[43mtrain_features\u001b[49m\u001b[38;5;241;43m.\u001b[39;49m\u001b[43mwrite\u001b[49m\u001b[38;5;241;43m.\u001b[39;49m\u001b[43mcsv\u001b[49m\u001b[43m(\u001b[49m\u001b[38;5;124;43m'\u001b[39;49m\u001b[38;5;124;43mtrain_csv\u001b[39;49m\u001b[38;5;124;43m'\u001b[39;49m\u001b[43m,\u001b[49m\u001b[43m \u001b[49m\u001b[43mmode\u001b[49m\u001b[38;5;241;43m=\u001b[39;49m\u001b[38;5;124;43m'\u001b[39;49m\u001b[38;5;124;43moverwrite\u001b[39;49m\u001b[38;5;124;43m'\u001b[39;49m\u001b[43m,\u001b[49m\u001b[43m \u001b[49m\u001b[43mheader\u001b[49m\u001b[38;5;241;43m=\u001b[39;49m\u001b[38;5;28;43;01mTrue\u001b[39;49;00m\u001b[43m)\u001b[49m\n\u001b[1;32m      2\u001b[0m test_features\u001b[38;5;241m.\u001b[39mwrite\u001b[38;5;241m.\u001b[39mcsv(\u001b[38;5;124m'\u001b[39m\u001b[38;5;124mtest_csv\u001b[39m\u001b[38;5;124m'\u001b[39m, mode\u001b[38;5;241m=\u001b[39m\u001b[38;5;124m'\u001b[39m\u001b[38;5;124moverwrite\u001b[39m\u001b[38;5;124m'\u001b[39m, header\u001b[38;5;241m=\u001b[39m\u001b[38;5;28;01mTrue\u001b[39;00m)\n",
      "File \u001b[0;32m~/anaconda3/envs/ML/lib/python3.12/site-packages/pyspark/sql/readwriter.py:1864\u001b[0m, in \u001b[0;36mDataFrameWriter.csv\u001b[0;34m(self, path, mode, compression, sep, quote, escape, header, nullValue, escapeQuotes, quoteAll, dateFormat, timestampFormat, ignoreLeadingWhiteSpace, ignoreTrailingWhiteSpace, charToEscapeQuoteEscaping, encoding, emptyValue, lineSep)\u001b[0m\n\u001b[1;32m   1845\u001b[0m \u001b[38;5;28mself\u001b[39m\u001b[38;5;241m.\u001b[39mmode(mode)\n\u001b[1;32m   1846\u001b[0m \u001b[38;5;28mself\u001b[39m\u001b[38;5;241m.\u001b[39m_set_opts(\n\u001b[1;32m   1847\u001b[0m     compression\u001b[38;5;241m=\u001b[39mcompression,\n\u001b[1;32m   1848\u001b[0m     sep\u001b[38;5;241m=\u001b[39msep,\n\u001b[0;32m   (...)\u001b[0m\n\u001b[1;32m   1862\u001b[0m     lineSep\u001b[38;5;241m=\u001b[39mlineSep,\n\u001b[1;32m   1863\u001b[0m )\n\u001b[0;32m-> 1864\u001b[0m \u001b[38;5;28;43mself\u001b[39;49m\u001b[38;5;241;43m.\u001b[39;49m\u001b[43m_jwrite\u001b[49m\u001b[38;5;241;43m.\u001b[39;49m\u001b[43mcsv\u001b[49m\u001b[43m(\u001b[49m\u001b[43mpath\u001b[49m\u001b[43m)\u001b[49m\n",
      "File \u001b[0;32m~/anaconda3/envs/ML/lib/python3.12/site-packages/py4j/java_gateway.py:1322\u001b[0m, in \u001b[0;36mJavaMember.__call__\u001b[0;34m(self, *args)\u001b[0m\n\u001b[1;32m   1316\u001b[0m command \u001b[38;5;241m=\u001b[39m proto\u001b[38;5;241m.\u001b[39mCALL_COMMAND_NAME \u001b[38;5;241m+\u001b[39m\\\n\u001b[1;32m   1317\u001b[0m     \u001b[38;5;28mself\u001b[39m\u001b[38;5;241m.\u001b[39mcommand_header \u001b[38;5;241m+\u001b[39m\\\n\u001b[1;32m   1318\u001b[0m     args_command \u001b[38;5;241m+\u001b[39m\\\n\u001b[1;32m   1319\u001b[0m     proto\u001b[38;5;241m.\u001b[39mEND_COMMAND_PART\n\u001b[1;32m   1321\u001b[0m answer \u001b[38;5;241m=\u001b[39m \u001b[38;5;28mself\u001b[39m\u001b[38;5;241m.\u001b[39mgateway_client\u001b[38;5;241m.\u001b[39msend_command(command)\n\u001b[0;32m-> 1322\u001b[0m return_value \u001b[38;5;241m=\u001b[39m \u001b[43mget_return_value\u001b[49m\u001b[43m(\u001b[49m\n\u001b[1;32m   1323\u001b[0m \u001b[43m    \u001b[49m\u001b[43manswer\u001b[49m\u001b[43m,\u001b[49m\u001b[43m \u001b[49m\u001b[38;5;28;43mself\u001b[39;49m\u001b[38;5;241;43m.\u001b[39;49m\u001b[43mgateway_client\u001b[49m\u001b[43m,\u001b[49m\u001b[43m \u001b[49m\u001b[38;5;28;43mself\u001b[39;49m\u001b[38;5;241;43m.\u001b[39;49m\u001b[43mtarget_id\u001b[49m\u001b[43m,\u001b[49m\u001b[43m \u001b[49m\u001b[38;5;28;43mself\u001b[39;49m\u001b[38;5;241;43m.\u001b[39;49m\u001b[43mname\u001b[49m\u001b[43m)\u001b[49m\n\u001b[1;32m   1325\u001b[0m \u001b[38;5;28;01mfor\u001b[39;00m temp_arg \u001b[38;5;129;01min\u001b[39;00m temp_args:\n\u001b[1;32m   1326\u001b[0m     \u001b[38;5;28;01mif\u001b[39;00m \u001b[38;5;28mhasattr\u001b[39m(temp_arg, \u001b[38;5;124m\"\u001b[39m\u001b[38;5;124m_detach\u001b[39m\u001b[38;5;124m\"\u001b[39m):\n",
      "File \u001b[0;32m~/anaconda3/envs/ML/lib/python3.12/site-packages/pyspark/errors/exceptions/captured.py:185\u001b[0m, in \u001b[0;36mcapture_sql_exception.<locals>.deco\u001b[0;34m(*a, **kw)\u001b[0m\n\u001b[1;32m    181\u001b[0m converted \u001b[38;5;241m=\u001b[39m convert_exception(e\u001b[38;5;241m.\u001b[39mjava_exception)\n\u001b[1;32m    182\u001b[0m \u001b[38;5;28;01mif\u001b[39;00m \u001b[38;5;129;01mnot\u001b[39;00m \u001b[38;5;28misinstance\u001b[39m(converted, UnknownException):\n\u001b[1;32m    183\u001b[0m     \u001b[38;5;66;03m# Hide where the exception came from that shows a non-Pythonic\u001b[39;00m\n\u001b[1;32m    184\u001b[0m     \u001b[38;5;66;03m# JVM exception message.\u001b[39;00m\n\u001b[0;32m--> 185\u001b[0m     \u001b[38;5;28;01mraise\u001b[39;00m converted \u001b[38;5;28;01mfrom\u001b[39;00m \u001b[38;5;28;01mNone\u001b[39;00m\n\u001b[1;32m    186\u001b[0m \u001b[38;5;28;01melse\u001b[39;00m:\n\u001b[1;32m    187\u001b[0m     \u001b[38;5;28;01mraise\u001b[39;00m\n",
      "\u001b[0;31mAnalysisException\u001b[0m: [UNSUPPORTED_DATA_TYPE_FOR_DATASOURCE] The CSV datasource doesn't support the column `SPLIT` of the type \"ARRAY<STRING>\"."
     ]
    }
   ],
   "source": [
    "train_features.write.csv('train_csv', mode='overwrite', header=True)\n",
    "test_features.write.csv('test_csv', mode='overwrite', header=True)"
   ]
  },
  {
   "cell_type": "markdown",
   "metadata": {},
   "source": [
    "# load features to pandas\n",
    "you also can use .toPandas()"
   ]
  },
  {
   "cell_type": "code",
   "execution_count": null,
   "metadata": {},
   "outputs": [],
   "source": [
    "import subprocess\n",
    "import glob\n",
    "import os\n",
    "import shutil\n",
    "import pandas as pd\n",
    "\n",
    "def load_and_merge_csv(path, **kwargs):\n",
    "    dfs = []\n",
    "    for g in glob.glob(os.path.join(path, '*.csv')):\n",
    "        dfs.append(pd.read_csv(g, **kwargs))\n",
    "    res = pd.concat(dfs)\n",
    "    res = res.set_index('id')\n",
    "    return res"
   ]
  },
  {
   "cell_type": "code",
   "execution_count": null,
   "metadata": {},
   "outputs": [
    {
     "name": "stderr",
     "output_type": "stream",
     "text": [
      "                                                                                \r"
     ]
    },
    {
     "ename": "Py4JJavaError",
     "evalue": "An error occurred while calling o46.collectToPython.\n: java.lang.OutOfMemoryError: Java heap space\n\tat scala.collection.mutable.ResizableArray.ensureSize(ResizableArray.scala:106)\n\tat scala.collection.mutable.ResizableArray.ensureSize$(ResizableArray.scala:96)\n\tat scala.collection.mutable.ArrayBuffer.ensureSize(ArrayBuffer.scala:49)\n\tat scala.collection.mutable.ArrayBuffer.$plus$eq(ArrayBuffer.scala:85)\n\tat org.apache.spark.sql.execution.SparkPlan.$anonfun$executeCollect$2(SparkPlan.scala:449)\n\tat org.apache.spark.sql.execution.SparkPlan$$Lambda/0x000078f814dce578.apply(Unknown Source)\n\tat scala.collection.Iterator.foreach(Iterator.scala:943)\n\tat scala.collection.Iterator.foreach$(Iterator.scala:943)\n\tat org.apache.spark.util.NextIterator.foreach(NextIterator.scala:21)\n\tat org.apache.spark.sql.execution.SparkPlan.$anonfun$executeCollect$1(SparkPlan.scala:449)\n\tat org.apache.spark.sql.execution.SparkPlan.$anonfun$executeCollect$1$adapted(SparkPlan.scala:448)\n\tat org.apache.spark.sql.execution.SparkPlan$$Lambda/0x000078f814dcd710.apply(Unknown Source)\n\tat scala.collection.IndexedSeqOptimized.foreach(IndexedSeqOptimized.scala:36)\n\tat scala.collection.IndexedSeqOptimized.foreach$(IndexedSeqOptimized.scala:33)\n\tat scala.collection.mutable.ArrayOps$ofRef.foreach(ArrayOps.scala:198)\n\tat org.apache.spark.sql.execution.SparkPlan.executeCollect(SparkPlan.scala:448)\n\tat org.apache.spark.sql.execution.adaptive.QueryStageExec.executeCollect(QueryStageExec.scala:94)\n\tat org.apache.spark.sql.execution.adaptive.AdaptiveSparkPlanExec.$anonfun$executeCollect$1(AdaptiveSparkPlanExec.scala:390)\n\tat org.apache.spark.sql.execution.adaptive.AdaptiveSparkPlanExec$$Lambda/0x000078f814ac13b0.apply(Unknown Source)\n\tat org.apache.spark.sql.execution.adaptive.AdaptiveSparkPlanExec.withFinalPlanUpdate(AdaptiveSparkPlanExec.scala:418)\n\tat org.apache.spark.sql.execution.adaptive.AdaptiveSparkPlanExec.executeCollect(AdaptiveSparkPlanExec.scala:390)\n\tat org.apache.spark.sql.Dataset.$anonfun$collectToPython$1(Dataset.scala:4148)\n\tat org.apache.spark.sql.Dataset$$Lambda/0x000078f814db04a0.apply(Unknown Source)\n\tat org.apache.spark.sql.Dataset.$anonfun$withAction$2(Dataset.scala:4322)\n\tat org.apache.spark.sql.Dataset$$Lambda/0x000078f814db0b40.apply(Unknown Source)\n\tat org.apache.spark.sql.execution.QueryExecution$.withInternalError(QueryExecution.scala:546)\n\tat org.apache.spark.sql.Dataset.$anonfun$withAction$1(Dataset.scala:4320)\n\tat org.apache.spark.sql.Dataset$$Lambda/0x000078f814db0878.apply(Unknown Source)\n\tat org.apache.spark.sql.execution.SQLExecution$.$anonfun$withNewExecutionId$6(SQLExecution.scala:125)\n\tat org.apache.spark.sql.execution.SQLExecution$$$Lambda/0x000078f814a88988.apply(Unknown Source)\n\tat org.apache.spark.sql.execution.SQLExecution$.withSQLConfPropagated(SQLExecution.scala:201)\n\tat org.apache.spark.sql.execution.SQLExecution$.$anonfun$withNewExecutionId$1(SQLExecution.scala:108)\n",
     "output_type": "error",
     "traceback": [
      "\u001b[0;31m---------------------------------------------------------------------------\u001b[0m",
      "\u001b[0;31mPy4JJavaError\u001b[0m                             Traceback (most recent call last)",
      "Cell \u001b[0;32mIn[16], line 1\u001b[0m\n\u001b[0;32m----> 1\u001b[0m trainXY \u001b[38;5;241m=\u001b[39m \u001b[43mtrain_features\u001b[49m\u001b[38;5;241;43m.\u001b[39;49m\u001b[43mtoPandas\u001b[49m\u001b[43m(\u001b[49m\u001b[43m)\u001b[49m\u001b[38;5;66;03m#load_and_merge_csv_from_hdfs('train_csv')\u001b[39;00m\n\u001b[1;32m      2\u001b[0m testX \u001b[38;5;241m=\u001b[39m test_features\u001b[38;5;241m.\u001b[39mtoPandas()\u001b[38;5;66;03m#load_and_merge_csv_from_hdfs('test_csv')\u001b[39;00m\n",
      "File \u001b[0;32m~/anaconda3/envs/ML/lib/python3.12/site-packages/pyspark/sql/pandas/conversion.py:202\u001b[0m, in \u001b[0;36mPandasConversionMixin.toPandas\u001b[0;34m(self)\u001b[0m\n\u001b[1;32m    199\u001b[0m             \u001b[38;5;28;01mraise\u001b[39;00m\n\u001b[1;32m    201\u001b[0m \u001b[38;5;66;03m# Below is toPandas without Arrow optimization.\u001b[39;00m\n\u001b[0;32m--> 202\u001b[0m rows \u001b[38;5;241m=\u001b[39m \u001b[38;5;28;43mself\u001b[39;49m\u001b[38;5;241;43m.\u001b[39;49m\u001b[43mcollect\u001b[49m\u001b[43m(\u001b[49m\u001b[43m)\u001b[49m\n\u001b[1;32m    203\u001b[0m \u001b[38;5;28;01mif\u001b[39;00m \u001b[38;5;28mlen\u001b[39m(rows) \u001b[38;5;241m>\u001b[39m \u001b[38;5;241m0\u001b[39m:\n\u001b[1;32m    204\u001b[0m     pdf \u001b[38;5;241m=\u001b[39m pd\u001b[38;5;241m.\u001b[39mDataFrame\u001b[38;5;241m.\u001b[39mfrom_records(\n\u001b[1;32m    205\u001b[0m         rows, index\u001b[38;5;241m=\u001b[39m\u001b[38;5;28mrange\u001b[39m(\u001b[38;5;28mlen\u001b[39m(rows)), columns\u001b[38;5;241m=\u001b[39m\u001b[38;5;28mself\u001b[39m\u001b[38;5;241m.\u001b[39mcolumns  \u001b[38;5;66;03m# type: ignore[arg-type]\u001b[39;00m\n\u001b[1;32m    206\u001b[0m     )\n",
      "File \u001b[0;32m~/anaconda3/envs/ML/lib/python3.12/site-packages/pyspark/sql/dataframe.py:1261\u001b[0m, in \u001b[0;36mDataFrame.collect\u001b[0;34m(self)\u001b[0m\n\u001b[1;32m   1241\u001b[0m \u001b[38;5;250m\u001b[39m\u001b[38;5;124;03m\"\"\"Returns all the records as a list of :class:`Row`.\u001b[39;00m\n\u001b[1;32m   1242\u001b[0m \n\u001b[1;32m   1243\u001b[0m \u001b[38;5;124;03m.. versionadded:: 1.3.0\u001b[39;00m\n\u001b[0;32m   (...)\u001b[0m\n\u001b[1;32m   1258\u001b[0m \u001b[38;5;124;03m[Row(age=14, name='Tom'), Row(age=23, name='Alice'), Row(age=16, name='Bob')]\u001b[39;00m\n\u001b[1;32m   1259\u001b[0m \u001b[38;5;124;03m\"\"\"\u001b[39;00m\n\u001b[1;32m   1260\u001b[0m \u001b[38;5;28;01mwith\u001b[39;00m SCCallSiteSync(\u001b[38;5;28mself\u001b[39m\u001b[38;5;241m.\u001b[39m_sc):\n\u001b[0;32m-> 1261\u001b[0m     sock_info \u001b[38;5;241m=\u001b[39m \u001b[38;5;28;43mself\u001b[39;49m\u001b[38;5;241;43m.\u001b[39;49m\u001b[43m_jdf\u001b[49m\u001b[38;5;241;43m.\u001b[39;49m\u001b[43mcollectToPython\u001b[49m\u001b[43m(\u001b[49m\u001b[43m)\u001b[49m\n\u001b[1;32m   1262\u001b[0m \u001b[38;5;28;01mreturn\u001b[39;00m \u001b[38;5;28mlist\u001b[39m(_load_from_socket(sock_info, BatchedSerializer(CPickleSerializer())))\n",
      "File \u001b[0;32m~/anaconda3/envs/ML/lib/python3.12/site-packages/py4j/java_gateway.py:1322\u001b[0m, in \u001b[0;36mJavaMember.__call__\u001b[0;34m(self, *args)\u001b[0m\n\u001b[1;32m   1316\u001b[0m command \u001b[38;5;241m=\u001b[39m proto\u001b[38;5;241m.\u001b[39mCALL_COMMAND_NAME \u001b[38;5;241m+\u001b[39m\\\n\u001b[1;32m   1317\u001b[0m     \u001b[38;5;28mself\u001b[39m\u001b[38;5;241m.\u001b[39mcommand_header \u001b[38;5;241m+\u001b[39m\\\n\u001b[1;32m   1318\u001b[0m     args_command \u001b[38;5;241m+\u001b[39m\\\n\u001b[1;32m   1319\u001b[0m     proto\u001b[38;5;241m.\u001b[39mEND_COMMAND_PART\n\u001b[1;32m   1321\u001b[0m answer \u001b[38;5;241m=\u001b[39m \u001b[38;5;28mself\u001b[39m\u001b[38;5;241m.\u001b[39mgateway_client\u001b[38;5;241m.\u001b[39msend_command(command)\n\u001b[0;32m-> 1322\u001b[0m return_value \u001b[38;5;241m=\u001b[39m \u001b[43mget_return_value\u001b[49m\u001b[43m(\u001b[49m\n\u001b[1;32m   1323\u001b[0m \u001b[43m    \u001b[49m\u001b[43manswer\u001b[49m\u001b[43m,\u001b[49m\u001b[43m \u001b[49m\u001b[38;5;28;43mself\u001b[39;49m\u001b[38;5;241;43m.\u001b[39;49m\u001b[43mgateway_client\u001b[49m\u001b[43m,\u001b[49m\u001b[43m \u001b[49m\u001b[38;5;28;43mself\u001b[39;49m\u001b[38;5;241;43m.\u001b[39;49m\u001b[43mtarget_id\u001b[49m\u001b[43m,\u001b[49m\u001b[43m \u001b[49m\u001b[38;5;28;43mself\u001b[39;49m\u001b[38;5;241;43m.\u001b[39;49m\u001b[43mname\u001b[49m\u001b[43m)\u001b[49m\n\u001b[1;32m   1325\u001b[0m \u001b[38;5;28;01mfor\u001b[39;00m temp_arg \u001b[38;5;129;01min\u001b[39;00m temp_args:\n\u001b[1;32m   1326\u001b[0m     \u001b[38;5;28;01mif\u001b[39;00m \u001b[38;5;28mhasattr\u001b[39m(temp_arg, \u001b[38;5;124m\"\u001b[39m\u001b[38;5;124m_detach\u001b[39m\u001b[38;5;124m\"\u001b[39m):\n",
      "File \u001b[0;32m~/anaconda3/envs/ML/lib/python3.12/site-packages/pyspark/errors/exceptions/captured.py:179\u001b[0m, in \u001b[0;36mcapture_sql_exception.<locals>.deco\u001b[0;34m(*a, **kw)\u001b[0m\n\u001b[1;32m    177\u001b[0m \u001b[38;5;28;01mdef\u001b[39;00m \u001b[38;5;21mdeco\u001b[39m(\u001b[38;5;241m*\u001b[39ma: Any, \u001b[38;5;241m*\u001b[39m\u001b[38;5;241m*\u001b[39mkw: Any) \u001b[38;5;241m-\u001b[39m\u001b[38;5;241m>\u001b[39m Any:\n\u001b[1;32m    178\u001b[0m     \u001b[38;5;28;01mtry\u001b[39;00m:\n\u001b[0;32m--> 179\u001b[0m         \u001b[38;5;28;01mreturn\u001b[39;00m \u001b[43mf\u001b[49m\u001b[43m(\u001b[49m\u001b[38;5;241;43m*\u001b[39;49m\u001b[43ma\u001b[49m\u001b[43m,\u001b[49m\u001b[43m \u001b[49m\u001b[38;5;241;43m*\u001b[39;49m\u001b[38;5;241;43m*\u001b[39;49m\u001b[43mkw\u001b[49m\u001b[43m)\u001b[49m\n\u001b[1;32m    180\u001b[0m     \u001b[38;5;28;01mexcept\u001b[39;00m Py4JJavaError \u001b[38;5;28;01mas\u001b[39;00m e:\n\u001b[1;32m    181\u001b[0m         converted \u001b[38;5;241m=\u001b[39m convert_exception(e\u001b[38;5;241m.\u001b[39mjava_exception)\n",
      "File \u001b[0;32m~/anaconda3/envs/ML/lib/python3.12/site-packages/py4j/protocol.py:326\u001b[0m, in \u001b[0;36mget_return_value\u001b[0;34m(answer, gateway_client, target_id, name)\u001b[0m\n\u001b[1;32m    324\u001b[0m value \u001b[38;5;241m=\u001b[39m OUTPUT_CONVERTER[\u001b[38;5;28mtype\u001b[39m](answer[\u001b[38;5;241m2\u001b[39m:], gateway_client)\n\u001b[1;32m    325\u001b[0m \u001b[38;5;28;01mif\u001b[39;00m answer[\u001b[38;5;241m1\u001b[39m] \u001b[38;5;241m==\u001b[39m REFERENCE_TYPE:\n\u001b[0;32m--> 326\u001b[0m     \u001b[38;5;28;01mraise\u001b[39;00m Py4JJavaError(\n\u001b[1;32m    327\u001b[0m         \u001b[38;5;124m\"\u001b[39m\u001b[38;5;124mAn error occurred while calling \u001b[39m\u001b[38;5;132;01m{0}\u001b[39;00m\u001b[38;5;132;01m{1}\u001b[39;00m\u001b[38;5;132;01m{2}\u001b[39;00m\u001b[38;5;124m.\u001b[39m\u001b[38;5;130;01m\\n\u001b[39;00m\u001b[38;5;124m\"\u001b[39m\u001b[38;5;241m.\u001b[39m\n\u001b[1;32m    328\u001b[0m         \u001b[38;5;28mformat\u001b[39m(target_id, \u001b[38;5;124m\"\u001b[39m\u001b[38;5;124m.\u001b[39m\u001b[38;5;124m\"\u001b[39m, name), value)\n\u001b[1;32m    329\u001b[0m \u001b[38;5;28;01melse\u001b[39;00m:\n\u001b[1;32m    330\u001b[0m     \u001b[38;5;28;01mraise\u001b[39;00m Py4JError(\n\u001b[1;32m    331\u001b[0m         \u001b[38;5;124m\"\u001b[39m\u001b[38;5;124mAn error occurred while calling \u001b[39m\u001b[38;5;132;01m{0}\u001b[39;00m\u001b[38;5;132;01m{1}\u001b[39;00m\u001b[38;5;132;01m{2}\u001b[39;00m\u001b[38;5;124m. Trace:\u001b[39m\u001b[38;5;130;01m\\n\u001b[39;00m\u001b[38;5;132;01m{3}\u001b[39;00m\u001b[38;5;130;01m\\n\u001b[39;00m\u001b[38;5;124m\"\u001b[39m\u001b[38;5;241m.\u001b[39m\n\u001b[1;32m    332\u001b[0m         \u001b[38;5;28mformat\u001b[39m(target_id, \u001b[38;5;124m\"\u001b[39m\u001b[38;5;124m.\u001b[39m\u001b[38;5;124m\"\u001b[39m, name, value))\n",
      "\u001b[0;31mPy4JJavaError\u001b[0m: An error occurred while calling o46.collectToPython.\n: java.lang.OutOfMemoryError: Java heap space\n\tat scala.collection.mutable.ResizableArray.ensureSize(ResizableArray.scala:106)\n\tat scala.collection.mutable.ResizableArray.ensureSize$(ResizableArray.scala:96)\n\tat scala.collection.mutable.ArrayBuffer.ensureSize(ArrayBuffer.scala:49)\n\tat scala.collection.mutable.ArrayBuffer.$plus$eq(ArrayBuffer.scala:85)\n\tat org.apache.spark.sql.execution.SparkPlan.$anonfun$executeCollect$2(SparkPlan.scala:449)\n\tat org.apache.spark.sql.execution.SparkPlan$$Lambda/0x000078f814dce578.apply(Unknown Source)\n\tat scala.collection.Iterator.foreach(Iterator.scala:943)\n\tat scala.collection.Iterator.foreach$(Iterator.scala:943)\n\tat org.apache.spark.util.NextIterator.foreach(NextIterator.scala:21)\n\tat org.apache.spark.sql.execution.SparkPlan.$anonfun$executeCollect$1(SparkPlan.scala:449)\n\tat org.apache.spark.sql.execution.SparkPlan.$anonfun$executeCollect$1$adapted(SparkPlan.scala:448)\n\tat org.apache.spark.sql.execution.SparkPlan$$Lambda/0x000078f814dcd710.apply(Unknown Source)\n\tat scala.collection.IndexedSeqOptimized.foreach(IndexedSeqOptimized.scala:36)\n\tat scala.collection.IndexedSeqOptimized.foreach$(IndexedSeqOptimized.scala:33)\n\tat scala.collection.mutable.ArrayOps$ofRef.foreach(ArrayOps.scala:198)\n\tat org.apache.spark.sql.execution.SparkPlan.executeCollect(SparkPlan.scala:448)\n\tat org.apache.spark.sql.execution.adaptive.QueryStageExec.executeCollect(QueryStageExec.scala:94)\n\tat org.apache.spark.sql.execution.adaptive.AdaptiveSparkPlanExec.$anonfun$executeCollect$1(AdaptiveSparkPlanExec.scala:390)\n\tat org.apache.spark.sql.execution.adaptive.AdaptiveSparkPlanExec$$Lambda/0x000078f814ac13b0.apply(Unknown Source)\n\tat org.apache.spark.sql.execution.adaptive.AdaptiveSparkPlanExec.withFinalPlanUpdate(AdaptiveSparkPlanExec.scala:418)\n\tat org.apache.spark.sql.execution.adaptive.AdaptiveSparkPlanExec.executeCollect(AdaptiveSparkPlanExec.scala:390)\n\tat org.apache.spark.sql.Dataset.$anonfun$collectToPython$1(Dataset.scala:4148)\n\tat org.apache.spark.sql.Dataset$$Lambda/0x000078f814db04a0.apply(Unknown Source)\n\tat org.apache.spark.sql.Dataset.$anonfun$withAction$2(Dataset.scala:4322)\n\tat org.apache.spark.sql.Dataset$$Lambda/0x000078f814db0b40.apply(Unknown Source)\n\tat org.apache.spark.sql.execution.QueryExecution$.withInternalError(QueryExecution.scala:546)\n\tat org.apache.spark.sql.Dataset.$anonfun$withAction$1(Dataset.scala:4320)\n\tat org.apache.spark.sql.Dataset$$Lambda/0x000078f814db0878.apply(Unknown Source)\n\tat org.apache.spark.sql.execution.SQLExecution$.$anonfun$withNewExecutionId$6(SQLExecution.scala:125)\n\tat org.apache.spark.sql.execution.SQLExecution$$$Lambda/0x000078f814a88988.apply(Unknown Source)\n\tat org.apache.spark.sql.execution.SQLExecution$.withSQLConfPropagated(SQLExecution.scala:201)\n\tat org.apache.spark.sql.execution.SQLExecution$.$anonfun$withNewExecutionId$1(SQLExecution.scala:108)\n"
     ]
    }
   ],
   "source": [
    "trainXY = train_features.toPandas()#load_and_merge_csv_from_hdfs('train_csv')\n",
    "testX = test_features.toPandas()#load_and_merge_csv_from_hdfs('test_csv')"
   ]
  },
  {
   "cell_type": "code",
   "execution_count": null,
   "metadata": {},
   "outputs": [
    {
     "data": {
      "text/html": [
       "<div>\n",
       "<style scoped>\n",
       "    .dataframe tbody tr th:only-of-type {\n",
       "        vertical-align: middle;\n",
       "    }\n",
       "\n",
       "    .dataframe tbody tr th {\n",
       "        vertical-align: top;\n",
       "    }\n",
       "\n",
       "    .dataframe thead th {\n",
       "        text-align: right;\n",
       "    }\n",
       "</style>\n",
       "<table border=\"1\" class=\"dataframe\">\n",
       "  <thead>\n",
       "    <tr style=\"text-align: right;\">\n",
       "      <th></th>\n",
       "      <th>views</th>\n",
       "    </tr>\n",
       "    <tr>\n",
       "      <th>id</th>\n",
       "      <th></th>\n",
       "    </tr>\n",
       "  </thead>\n",
       "  <tbody>\n",
       "    <tr>\n",
       "      <th>46044656</th>\n",
       "      <td>14813</td>\n",
       "    </tr>\n",
       "    <tr>\n",
       "      <th>46044647</th>\n",
       "      <td>8499</td>\n",
       "    </tr>\n",
       "    <tr>\n",
       "      <th>46044648</th>\n",
       "      <td>10061</td>\n",
       "    </tr>\n",
       "    <tr>\n",
       "      <th>46044649</th>\n",
       "      <td>10672</td>\n",
       "    </tr>\n",
       "    <tr>\n",
       "      <th>46044650</th>\n",
       "      <td>11302</td>\n",
       "    </tr>\n",
       "    <tr>\n",
       "      <th>...</th>\n",
       "      <td>...</td>\n",
       "    </tr>\n",
       "    <tr>\n",
       "      <th>50140480</th>\n",
       "      <td>1664</td>\n",
       "    </tr>\n",
       "    <tr>\n",
       "      <th>50140481</th>\n",
       "      <td>1666</td>\n",
       "    </tr>\n",
       "    <tr>\n",
       "      <th>50140482</th>\n",
       "      <td>1680</td>\n",
       "    </tr>\n",
       "    <tr>\n",
       "      <th>50140483</th>\n",
       "      <td>1655</td>\n",
       "    </tr>\n",
       "    <tr>\n",
       "      <th>50140484</th>\n",
       "      <td>1635</td>\n",
       "    </tr>\n",
       "  </tbody>\n",
       "</table>\n",
       "<p>5460759 rows × 1 columns</p>\n",
       "</div>"
      ],
      "text/plain": [
       "          views\n",
       "id             \n",
       "46044656  14813\n",
       "46044647   8499\n",
       "46044648  10061\n",
       "46044649  10672\n",
       "46044650  11302\n",
       "...         ...\n",
       "50140480   1664\n",
       "50140481   1666\n",
       "50140482   1680\n",
       "50140483   1655\n",
       "50140484   1635\n",
       "\n",
       "[5460759 rows x 1 columns]"
      ]
     },
     "execution_count": 12,
     "metadata": {},
     "output_type": "execute_result"
    }
   ],
   "source": [
    "trainXY"
   ]
  },
  {
   "cell_type": "code",
   "execution_count": null,
   "metadata": {},
   "outputs": [
    {
     "ename": "KeyError",
     "evalue": "\"['channel_id'] not found in axis\"",
     "output_type": "error",
     "traceback": [
      "\u001b[0;31m---------------------------------------------------------------------------\u001b[0m",
      "\u001b[0;31mKeyError\u001b[0m                                  Traceback (most recent call last)",
      "Cell \u001b[0;32mIn[11], line 5\u001b[0m\n\u001b[1;32m      3\u001b[0m Ycol \u001b[38;5;241m=\u001b[39m \u001b[38;5;124m'\u001b[39m\u001b[38;5;124mviews\u001b[39m\u001b[38;5;124m'\u001b[39m\n\u001b[1;32m      4\u001b[0m to_drop \u001b[38;5;241m=\u001b[39m [\u001b[38;5;124m'\u001b[39m\u001b[38;5;124mchannel_id\u001b[39m\u001b[38;5;124m'\u001b[39m]\n\u001b[0;32m----> 5\u001b[0m trainX, trainY \u001b[38;5;241m=\u001b[39m \u001b[43mtrainXY\u001b[49m\u001b[38;5;241;43m.\u001b[39;49m\u001b[43mdrop\u001b[49m\u001b[43m(\u001b[49m\u001b[43mYcol\u001b[49m\u001b[43m,\u001b[49m\u001b[43m \u001b[49m\u001b[43maxis\u001b[49m\u001b[38;5;241;43m=\u001b[39;49m\u001b[38;5;241;43m1\u001b[39;49m\u001b[43m)\u001b[49m\u001b[38;5;241;43m.\u001b[39;49m\u001b[43mdrop\u001b[49m\u001b[43m(\u001b[49m\u001b[43mto_drop\u001b[49m\u001b[43m,\u001b[49m\u001b[43m \u001b[49m\u001b[43maxis\u001b[49m\u001b[38;5;241;43m=\u001b[39;49m\u001b[38;5;241;43m1\u001b[39;49m\u001b[43m)\u001b[49m, trainXY[Ycol]\n\u001b[1;32m      6\u001b[0m trainY \u001b[38;5;241m=\u001b[39m np\u001b[38;5;241m.\u001b[39mlog(trainY \u001b[38;5;241m+\u001b[39m \u001b[38;5;241m100\u001b[39m)\n\u001b[1;32m      8\u001b[0m testX \u001b[38;5;241m=\u001b[39m testX\u001b[38;5;241m.\u001b[39mdrop(to_drop, axis\u001b[38;5;241m=\u001b[39m\u001b[38;5;241m1\u001b[39m)\n",
      "File \u001b[0;32m~/anaconda3/envs/ML/lib/python3.12/site-packages/pandas/core/frame.py:5581\u001b[0m, in \u001b[0;36mDataFrame.drop\u001b[0;34m(self, labels, axis, index, columns, level, inplace, errors)\u001b[0m\n\u001b[1;32m   5433\u001b[0m \u001b[38;5;28;01mdef\u001b[39;00m \u001b[38;5;21mdrop\u001b[39m(\n\u001b[1;32m   5434\u001b[0m     \u001b[38;5;28mself\u001b[39m,\n\u001b[1;32m   5435\u001b[0m     labels: IndexLabel \u001b[38;5;241m|\u001b[39m \u001b[38;5;28;01mNone\u001b[39;00m \u001b[38;5;241m=\u001b[39m \u001b[38;5;28;01mNone\u001b[39;00m,\n\u001b[0;32m   (...)\u001b[0m\n\u001b[1;32m   5442\u001b[0m     errors: IgnoreRaise \u001b[38;5;241m=\u001b[39m \u001b[38;5;124m\"\u001b[39m\u001b[38;5;124mraise\u001b[39m\u001b[38;5;124m\"\u001b[39m,\n\u001b[1;32m   5443\u001b[0m ) \u001b[38;5;241m-\u001b[39m\u001b[38;5;241m>\u001b[39m DataFrame \u001b[38;5;241m|\u001b[39m \u001b[38;5;28;01mNone\u001b[39;00m:\n\u001b[1;32m   5444\u001b[0m \u001b[38;5;250m    \u001b[39m\u001b[38;5;124;03m\"\"\"\u001b[39;00m\n\u001b[1;32m   5445\u001b[0m \u001b[38;5;124;03m    Drop specified labels from rows or columns.\u001b[39;00m\n\u001b[1;32m   5446\u001b[0m \n\u001b[0;32m   (...)\u001b[0m\n\u001b[1;32m   5579\u001b[0m \u001b[38;5;124;03m            weight  1.0     0.8\u001b[39;00m\n\u001b[1;32m   5580\u001b[0m \u001b[38;5;124;03m    \"\"\"\u001b[39;00m\n\u001b[0;32m-> 5581\u001b[0m     \u001b[38;5;28;01mreturn\u001b[39;00m \u001b[38;5;28;43msuper\u001b[39;49m\u001b[43m(\u001b[49m\u001b[43m)\u001b[49m\u001b[38;5;241;43m.\u001b[39;49m\u001b[43mdrop\u001b[49m\u001b[43m(\u001b[49m\n\u001b[1;32m   5582\u001b[0m \u001b[43m        \u001b[49m\u001b[43mlabels\u001b[49m\u001b[38;5;241;43m=\u001b[39;49m\u001b[43mlabels\u001b[49m\u001b[43m,\u001b[49m\n\u001b[1;32m   5583\u001b[0m \u001b[43m        \u001b[49m\u001b[43maxis\u001b[49m\u001b[38;5;241;43m=\u001b[39;49m\u001b[43maxis\u001b[49m\u001b[43m,\u001b[49m\n\u001b[1;32m   5584\u001b[0m \u001b[43m        \u001b[49m\u001b[43mindex\u001b[49m\u001b[38;5;241;43m=\u001b[39;49m\u001b[43mindex\u001b[49m\u001b[43m,\u001b[49m\n\u001b[1;32m   5585\u001b[0m \u001b[43m        \u001b[49m\u001b[43mcolumns\u001b[49m\u001b[38;5;241;43m=\u001b[39;49m\u001b[43mcolumns\u001b[49m\u001b[43m,\u001b[49m\n\u001b[1;32m   5586\u001b[0m \u001b[43m        \u001b[49m\u001b[43mlevel\u001b[49m\u001b[38;5;241;43m=\u001b[39;49m\u001b[43mlevel\u001b[49m\u001b[43m,\u001b[49m\n\u001b[1;32m   5587\u001b[0m \u001b[43m        \u001b[49m\u001b[43minplace\u001b[49m\u001b[38;5;241;43m=\u001b[39;49m\u001b[43minplace\u001b[49m\u001b[43m,\u001b[49m\n\u001b[1;32m   5588\u001b[0m \u001b[43m        \u001b[49m\u001b[43merrors\u001b[49m\u001b[38;5;241;43m=\u001b[39;49m\u001b[43merrors\u001b[49m\u001b[43m,\u001b[49m\n\u001b[1;32m   5589\u001b[0m \u001b[43m    \u001b[49m\u001b[43m)\u001b[49m\n",
      "File \u001b[0;32m~/anaconda3/envs/ML/lib/python3.12/site-packages/pandas/core/generic.py:4788\u001b[0m, in \u001b[0;36mNDFrame.drop\u001b[0;34m(self, labels, axis, index, columns, level, inplace, errors)\u001b[0m\n\u001b[1;32m   4786\u001b[0m \u001b[38;5;28;01mfor\u001b[39;00m axis, labels \u001b[38;5;129;01min\u001b[39;00m axes\u001b[38;5;241m.\u001b[39mitems():\n\u001b[1;32m   4787\u001b[0m     \u001b[38;5;28;01mif\u001b[39;00m labels \u001b[38;5;129;01mis\u001b[39;00m \u001b[38;5;129;01mnot\u001b[39;00m \u001b[38;5;28;01mNone\u001b[39;00m:\n\u001b[0;32m-> 4788\u001b[0m         obj \u001b[38;5;241m=\u001b[39m \u001b[43mobj\u001b[49m\u001b[38;5;241;43m.\u001b[39;49m\u001b[43m_drop_axis\u001b[49m\u001b[43m(\u001b[49m\u001b[43mlabels\u001b[49m\u001b[43m,\u001b[49m\u001b[43m \u001b[49m\u001b[43maxis\u001b[49m\u001b[43m,\u001b[49m\u001b[43m \u001b[49m\u001b[43mlevel\u001b[49m\u001b[38;5;241;43m=\u001b[39;49m\u001b[43mlevel\u001b[49m\u001b[43m,\u001b[49m\u001b[43m \u001b[49m\u001b[43merrors\u001b[49m\u001b[38;5;241;43m=\u001b[39;49m\u001b[43merrors\u001b[49m\u001b[43m)\u001b[49m\n\u001b[1;32m   4790\u001b[0m \u001b[38;5;28;01mif\u001b[39;00m inplace:\n\u001b[1;32m   4791\u001b[0m     \u001b[38;5;28mself\u001b[39m\u001b[38;5;241m.\u001b[39m_update_inplace(obj)\n",
      "File \u001b[0;32m~/anaconda3/envs/ML/lib/python3.12/site-packages/pandas/core/generic.py:4830\u001b[0m, in \u001b[0;36mNDFrame._drop_axis\u001b[0;34m(self, labels, axis, level, errors, only_slice)\u001b[0m\n\u001b[1;32m   4828\u001b[0m         new_axis \u001b[38;5;241m=\u001b[39m axis\u001b[38;5;241m.\u001b[39mdrop(labels, level\u001b[38;5;241m=\u001b[39mlevel, errors\u001b[38;5;241m=\u001b[39merrors)\n\u001b[1;32m   4829\u001b[0m     \u001b[38;5;28;01melse\u001b[39;00m:\n\u001b[0;32m-> 4830\u001b[0m         new_axis \u001b[38;5;241m=\u001b[39m \u001b[43maxis\u001b[49m\u001b[38;5;241;43m.\u001b[39;49m\u001b[43mdrop\u001b[49m\u001b[43m(\u001b[49m\u001b[43mlabels\u001b[49m\u001b[43m,\u001b[49m\u001b[43m \u001b[49m\u001b[43merrors\u001b[49m\u001b[38;5;241;43m=\u001b[39;49m\u001b[43merrors\u001b[49m\u001b[43m)\u001b[49m\n\u001b[1;32m   4831\u001b[0m     indexer \u001b[38;5;241m=\u001b[39m axis\u001b[38;5;241m.\u001b[39mget_indexer(new_axis)\n\u001b[1;32m   4833\u001b[0m \u001b[38;5;66;03m# Case for non-unique axis\u001b[39;00m\n\u001b[1;32m   4834\u001b[0m \u001b[38;5;28;01melse\u001b[39;00m:\n",
      "File \u001b[0;32m~/anaconda3/envs/ML/lib/python3.12/site-packages/pandas/core/indexes/base.py:7070\u001b[0m, in \u001b[0;36mIndex.drop\u001b[0;34m(self, labels, errors)\u001b[0m\n\u001b[1;32m   7068\u001b[0m \u001b[38;5;28;01mif\u001b[39;00m mask\u001b[38;5;241m.\u001b[39many():\n\u001b[1;32m   7069\u001b[0m     \u001b[38;5;28;01mif\u001b[39;00m errors \u001b[38;5;241m!=\u001b[39m \u001b[38;5;124m\"\u001b[39m\u001b[38;5;124mignore\u001b[39m\u001b[38;5;124m\"\u001b[39m:\n\u001b[0;32m-> 7070\u001b[0m         \u001b[38;5;28;01mraise\u001b[39;00m \u001b[38;5;167;01mKeyError\u001b[39;00m(\u001b[38;5;124mf\u001b[39m\u001b[38;5;124m\"\u001b[39m\u001b[38;5;132;01m{\u001b[39;00mlabels[mask]\u001b[38;5;241m.\u001b[39mtolist()\u001b[38;5;132;01m}\u001b[39;00m\u001b[38;5;124m not found in axis\u001b[39m\u001b[38;5;124m\"\u001b[39m)\n\u001b[1;32m   7071\u001b[0m     indexer \u001b[38;5;241m=\u001b[39m indexer[\u001b[38;5;241m~\u001b[39mmask]\n\u001b[1;32m   7072\u001b[0m \u001b[38;5;28;01mreturn\u001b[39;00m \u001b[38;5;28mself\u001b[39m\u001b[38;5;241m.\u001b[39mdelete(indexer)\n",
      "\u001b[0;31mKeyError\u001b[0m: \"['channel_id'] not found in axis\""
     ]
    }
   ],
   "source": [
    "import numpy as np\n",
    "\n",
    "Ycol = 'views'\n",
    "to_drop = ['channel_id']\n",
    "trainX, trainY = trainXY.drop(Ycol, axis=1).drop(to_drop, axis=1), trainXY[Ycol]\n",
    "trainY = np.log(trainY + 100)\n",
    "\n",
    "testX = testX.drop(to_drop, axis=1)"
   ]
  },
  {
   "cell_type": "markdown",
   "metadata": {},
   "source": [
    "# train your model and predict test"
   ]
  },
  {
   "cell_type": "code",
   "execution_count": null,
   "metadata": {},
   "outputs": [],
   "source": [
    "prediction = np.random.random(testX.shape[0])"
   ]
  },
  {
   "cell_type": "code",
   "execution_count": null,
   "metadata": {},
   "outputs": [
    {
     "data": {
      "text/plain": [
       "(244386,)"
      ]
     },
     "execution_count": 30,
     "metadata": {},
     "output_type": "execute_result"
    }
   ],
   "source": [
    "prediction.shape"
   ]
  },
  {
   "cell_type": "code",
   "execution_count": null,
   "metadata": {},
   "outputs": [],
   "source": [
    "assert prediction.shape == (244386,)"
   ]
  },
  {
   "cell_type": "markdown",
   "metadata": {},
   "source": [
    "# submit"
   ]
  },
  {
   "cell_type": "code",
   "execution_count": null,
   "metadata": {},
   "outputs": [],
   "source": [
    "! curl -H 'Cache-Control: no-cache' https://raw.githubusercontent.com/mike0sv/lsml_submit_server/2024/src/client.py -o client.py"
   ]
  },
  {
   "cell_type": "code",
   "execution_count": null,
   "metadata": {},
   "outputs": [],
   "source": [
    "import client"
   ]
  },
  {
   "cell_type": "code",
   "execution_count": null,
   "metadata": {},
   "outputs": [],
   "source": [
    "client.make_eval(pd.DataFrame({'views': prediction}, index=testX.index))"
   ]
  },
  {
   "cell_type": "code",
   "execution_count": null,
   "metadata": {},
   "outputs": [],
   "source": [
    "client.check_results()"
   ]
  }
 ],
 "metadata": {
  "kernelspec": {
   "display_name": "Python 3",
   "language": "python",
   "name": "python3"
  },
  "language_info": {
   "codemirror_mode": {
    "name": "ipython",
    "version": 3
   },
   "file_extension": ".py",
   "mimetype": "text/x-python",
   "name": "python",
   "nbconvert_exporter": "python",
   "pygments_lexer": "ipython3",
   "version": "3.12.3"
  }
 },
 "nbformat": 4,
 "nbformat_minor": 4
}
